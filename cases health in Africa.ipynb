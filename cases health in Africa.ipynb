{
 "cells": [
  {
   "cell_type": "code",
   "execution_count": 1,
   "metadata": {},
   "outputs": [],
   "source": [
    "import pandas as pd"
   ]
  },
  {
   "cell_type": "code",
   "execution_count": 2,
   "metadata": {},
   "outputs": [],
   "source": [
    "df = pd.read_csv('./HNP_StatsData/HNP_StatsData.csv')"
   ]
  },
  {
   "cell_type": "code",
   "execution_count": 3,
   "metadata": {},
   "outputs": [
    {
     "data": {
      "text/html": [
       "<div>\n",
       "<style scoped>\n",
       "    .dataframe tbody tr th:only-of-type {\n",
       "        vertical-align: middle;\n",
       "    }\n",
       "\n",
       "    .dataframe tbody tr th {\n",
       "        vertical-align: top;\n",
       "    }\n",
       "\n",
       "    .dataframe thead th {\n",
       "        text-align: right;\n",
       "    }\n",
       "</style>\n",
       "<table border=\"1\" class=\"dataframe\">\n",
       "  <thead>\n",
       "    <tr style=\"text-align: right;\">\n",
       "      <th></th>\n",
       "      <th>Country Name</th>\n",
       "      <th>Country Code</th>\n",
       "      <th>Indicator Name</th>\n",
       "      <th>Indicator Code</th>\n",
       "      <th>1960</th>\n",
       "      <th>1961</th>\n",
       "      <th>1962</th>\n",
       "      <th>1963</th>\n",
       "      <th>1964</th>\n",
       "      <th>1965</th>\n",
       "      <th>...</th>\n",
       "      <th>2013</th>\n",
       "      <th>2014</th>\n",
       "      <th>2015</th>\n",
       "      <th>2016</th>\n",
       "      <th>2017</th>\n",
       "      <th>2018</th>\n",
       "      <th>2019</th>\n",
       "      <th>2020</th>\n",
       "      <th>2021</th>\n",
       "      <th>Unnamed: 66</th>\n",
       "    </tr>\n",
       "  </thead>\n",
       "  <tbody>\n",
       "    <tr>\n",
       "      <th>0</th>\n",
       "      <td>Africa Eastern and Southern</td>\n",
       "      <td>AFE</td>\n",
       "      <td>Adolescent fertility rate (births per 1,000 wo...</td>\n",
       "      <td>SP.ADO.TFRT</td>\n",
       "      <td>140.120535</td>\n",
       "      <td>140.594564</td>\n",
       "      <td>141.128109</td>\n",
       "      <td>141.32344</td>\n",
       "      <td>141.50816</td>\n",
       "      <td>141.668896</td>\n",
       "      <td>...</td>\n",
       "      <td>103.391461</td>\n",
       "      <td>101.541782</td>\n",
       "      <td>99.719799</td>\n",
       "      <td>97.916601</td>\n",
       "      <td>96.146492</td>\n",
       "      <td>94.695223</td>\n",
       "      <td>93.231944</td>\n",
       "      <td>NaN</td>\n",
       "      <td>NaN</td>\n",
       "      <td>NaN</td>\n",
       "    </tr>\n",
       "    <tr>\n",
       "      <th>1</th>\n",
       "      <td>Africa Eastern and Southern</td>\n",
       "      <td>AFE</td>\n",
       "      <td>Adults (ages 15+) and children (0-14 years) li...</td>\n",
       "      <td>SH.HIV.TOTL</td>\n",
       "      <td>NaN</td>\n",
       "      <td>NaN</td>\n",
       "      <td>NaN</td>\n",
       "      <td>NaN</td>\n",
       "      <td>NaN</td>\n",
       "      <td>NaN</td>\n",
       "      <td>...</td>\n",
       "      <td>NaN</td>\n",
       "      <td>NaN</td>\n",
       "      <td>NaN</td>\n",
       "      <td>NaN</td>\n",
       "      <td>NaN</td>\n",
       "      <td>NaN</td>\n",
       "      <td>NaN</td>\n",
       "      <td>NaN</td>\n",
       "      <td>NaN</td>\n",
       "      <td>NaN</td>\n",
       "    </tr>\n",
       "    <tr>\n",
       "      <th>2</th>\n",
       "      <td>Africa Eastern and Southern</td>\n",
       "      <td>AFE</td>\n",
       "      <td>Adults (ages 15+) and children (ages 0-14) new...</td>\n",
       "      <td>SH.HIV.INCD.TL</td>\n",
       "      <td>NaN</td>\n",
       "      <td>NaN</td>\n",
       "      <td>NaN</td>\n",
       "      <td>NaN</td>\n",
       "      <td>NaN</td>\n",
       "      <td>NaN</td>\n",
       "      <td>...</td>\n",
       "      <td>NaN</td>\n",
       "      <td>NaN</td>\n",
       "      <td>NaN</td>\n",
       "      <td>NaN</td>\n",
       "      <td>NaN</td>\n",
       "      <td>NaN</td>\n",
       "      <td>NaN</td>\n",
       "      <td>NaN</td>\n",
       "      <td>NaN</td>\n",
       "      <td>NaN</td>\n",
       "    </tr>\n",
       "    <tr>\n",
       "      <th>3</th>\n",
       "      <td>Africa Eastern and Southern</td>\n",
       "      <td>AFE</td>\n",
       "      <td>Adults (ages 15+) living with HIV</td>\n",
       "      <td>SH.DYN.AIDS</td>\n",
       "      <td>NaN</td>\n",
       "      <td>NaN</td>\n",
       "      <td>NaN</td>\n",
       "      <td>NaN</td>\n",
       "      <td>NaN</td>\n",
       "      <td>NaN</td>\n",
       "      <td>...</td>\n",
       "      <td>NaN</td>\n",
       "      <td>NaN</td>\n",
       "      <td>NaN</td>\n",
       "      <td>NaN</td>\n",
       "      <td>NaN</td>\n",
       "      <td>NaN</td>\n",
       "      <td>NaN</td>\n",
       "      <td>NaN</td>\n",
       "      <td>NaN</td>\n",
       "      <td>NaN</td>\n",
       "    </tr>\n",
       "    <tr>\n",
       "      <th>4</th>\n",
       "      <td>Africa Eastern and Southern</td>\n",
       "      <td>AFE</td>\n",
       "      <td>Adults (ages 15-49) newly infected with HIV</td>\n",
       "      <td>SH.HIV.INCD</td>\n",
       "      <td>NaN</td>\n",
       "      <td>NaN</td>\n",
       "      <td>NaN</td>\n",
       "      <td>NaN</td>\n",
       "      <td>NaN</td>\n",
       "      <td>NaN</td>\n",
       "      <td>...</td>\n",
       "      <td>NaN</td>\n",
       "      <td>NaN</td>\n",
       "      <td>NaN</td>\n",
       "      <td>NaN</td>\n",
       "      <td>NaN</td>\n",
       "      <td>NaN</td>\n",
       "      <td>NaN</td>\n",
       "      <td>NaN</td>\n",
       "      <td>NaN</td>\n",
       "      <td>NaN</td>\n",
       "    </tr>\n",
       "  </tbody>\n",
       "</table>\n",
       "<p>5 rows × 67 columns</p>\n",
       "</div>"
      ],
      "text/plain": [
       "                  Country Name Country Code  \\\n",
       "0  Africa Eastern and Southern          AFE   \n",
       "1  Africa Eastern and Southern          AFE   \n",
       "2  Africa Eastern and Southern          AFE   \n",
       "3  Africa Eastern and Southern          AFE   \n",
       "4  Africa Eastern and Southern          AFE   \n",
       "\n",
       "                                      Indicator Name  Indicator Code  \\\n",
       "0  Adolescent fertility rate (births per 1,000 wo...     SP.ADO.TFRT   \n",
       "1  Adults (ages 15+) and children (0-14 years) li...     SH.HIV.TOTL   \n",
       "2  Adults (ages 15+) and children (ages 0-14) new...  SH.HIV.INCD.TL   \n",
       "3                  Adults (ages 15+) living with HIV     SH.DYN.AIDS   \n",
       "4        Adults (ages 15-49) newly infected with HIV     SH.HIV.INCD   \n",
       "\n",
       "         1960        1961        1962       1963       1964        1965  ...  \\\n",
       "0  140.120535  140.594564  141.128109  141.32344  141.50816  141.668896  ...   \n",
       "1         NaN         NaN         NaN        NaN        NaN         NaN  ...   \n",
       "2         NaN         NaN         NaN        NaN        NaN         NaN  ...   \n",
       "3         NaN         NaN         NaN        NaN        NaN         NaN  ...   \n",
       "4         NaN         NaN         NaN        NaN        NaN         NaN  ...   \n",
       "\n",
       "         2013        2014       2015       2016       2017       2018  \\\n",
       "0  103.391461  101.541782  99.719799  97.916601  96.146492  94.695223   \n",
       "1         NaN         NaN        NaN        NaN        NaN        NaN   \n",
       "2         NaN         NaN        NaN        NaN        NaN        NaN   \n",
       "3         NaN         NaN        NaN        NaN        NaN        NaN   \n",
       "4         NaN         NaN        NaN        NaN        NaN        NaN   \n",
       "\n",
       "        2019  2020  2021  Unnamed: 66  \n",
       "0  93.231944   NaN   NaN          NaN  \n",
       "1        NaN   NaN   NaN          NaN  \n",
       "2        NaN   NaN   NaN          NaN  \n",
       "3        NaN   NaN   NaN          NaN  \n",
       "4        NaN   NaN   NaN          NaN  \n",
       "\n",
       "[5 rows x 67 columns]"
      ]
     },
     "execution_count": 3,
     "metadata": {},
     "output_type": "execute_result"
    }
   ],
   "source": [
    "df.head()"
   ]
  },
  {
   "cell_type": "code",
   "execution_count": 4,
   "metadata": {},
   "outputs": [
    {
     "name": "stdout",
     "output_type": "stream",
     "text": [
      "<class 'pandas.core.frame.DataFrame'>\n",
      "RangeIndex: 117306 entries, 0 to 117305\n",
      "Data columns (total 67 columns):\n",
      " #   Column          Non-Null Count   Dtype  \n",
      "---  ------          --------------   -----  \n",
      " 0   Country Name    117306 non-null  object \n",
      " 1   Country Code    117306 non-null  object \n",
      " 2   Indicator Name  117306 non-null  object \n",
      " 3   Indicator Code  117306 non-null  object \n",
      " 4   1960            37753 non-null   float64\n",
      " 5   1961            38305 non-null   float64\n",
      " 6   1962            38880 non-null   float64\n",
      " 7   1963            38440 non-null   float64\n",
      " 8   1964            38490 non-null   float64\n",
      " 9   1965            38651 non-null   float64\n",
      " 10  1966            38595 non-null   float64\n",
      " 11  1967            39119 non-null   float64\n",
      " 12  1968            38709 non-null   float64\n",
      " 13  1969            38792 non-null   float64\n",
      " 14  1970            40158 non-null   float64\n",
      " 15  1971            40895 non-null   float64\n",
      " 16  1972            41437 non-null   float64\n",
      " 17  1973            40988 non-null   float64\n",
      " 18  1974            41028 non-null   float64\n",
      " 19  1975            41997 non-null   float64\n",
      " 20  1976            42075 non-null   float64\n",
      " 21  1977            42567 non-null   float64\n",
      " 22  1978            42141 non-null   float64\n",
      " 23  1979            42228 non-null   float64\n",
      " 24  1980            43058 non-null   float64\n",
      " 25  1981            43343 non-null   float64\n",
      " 26  1982            43631 non-null   float64\n",
      " 27  1983            43248 non-null   float64\n",
      " 28  1984            43473 non-null   float64\n",
      " 29  1985            43742 non-null   float64\n",
      " 30  1986            44128 non-null   float64\n",
      " 31  1987            44593 non-null   float64\n",
      " 32  1988            43945 non-null   float64\n",
      " 33  1989            44197 non-null   float64\n",
      " 34  1990            52295 non-null   float64\n",
      " 35  1991            52730 non-null   float64\n",
      " 36  1992            53407 non-null   float64\n",
      " 37  1993            52845 non-null   float64\n",
      " 38  1994            52801 non-null   float64\n",
      " 39  1995            53093 non-null   float64\n",
      " 40  1996            53289 non-null   float64\n",
      " 41  1997            53459 non-null   float64\n",
      " 42  1998            53237 non-null   float64\n",
      " 43  1999            54317 non-null   float64\n",
      " 44  2000            71764 non-null   float64\n",
      " 45  2001            68718 non-null   float64\n",
      " 46  2002            69457 non-null   float64\n",
      " 47  2003            69261 non-null   float64\n",
      " 48  2004            69774 non-null   float64\n",
      " 49  2005            71387 non-null   float64\n",
      " 50  2006            70778 non-null   float64\n",
      " 51  2007            71404 non-null   float64\n",
      " 52  2008            70457 non-null   float64\n",
      " 53  2009            70973 non-null   float64\n",
      " 54  2010            75273 non-null   float64\n",
      " 55  2011            71916 non-null   float64\n",
      " 56  2012            72349 non-null   float64\n",
      " 57  2013            71108 non-null   float64\n",
      " 58  2014            72429 non-null   float64\n",
      " 59  2015            73050 non-null   float64\n",
      " 60  2016            72903 non-null   float64\n",
      " 61  2017            71956 non-null   float64\n",
      " 62  2018            71383 non-null   float64\n",
      " 63  2019            67066 non-null   float64\n",
      " 64  2020            50967 non-null   float64\n",
      " 65  2021            1053 non-null    float64\n",
      " 66  Unnamed: 66     0 non-null       float64\n",
      "dtypes: float64(63), object(4)\n",
      "memory usage: 60.0+ MB\n"
     ]
    }
   ],
   "source": [
    "df.info()"
   ]
  },
  {
   "cell_type": "markdown",
   "metadata": {},
   "source": [
    "# 1. Which country has the lowest total fertility rate 2019"
   ]
  },
  {
   "cell_type": "code",
   "execution_count": null,
   "metadata": {},
   "outputs": [],
   "source": [
    "df['Indicator Name'].unique()"
   ]
  },
  {
   "cell_type": "code",
   "execution_count": null,
   "metadata": {},
   "outputs": [],
   "source": [
    "df_fer = df[df['Indicator Name'].str.contains('Adolescent fertility rate')]"
   ]
  },
  {
   "cell_type": "code",
   "execution_count": null,
   "metadata": {},
   "outputs": [],
   "source": [
    "low = df_fer[['Country Name','2019']]"
   ]
  },
  {
   "cell_type": "code",
   "execution_count": null,
   "metadata": {},
   "outputs": [],
   "source": [
    "low.head()"
   ]
  },
  {
   "cell_type": "code",
   "execution_count": null,
   "metadata": {},
   "outputs": [],
   "source": [
    "low19 = low[low['2019'] == low['2019'].min()]\n",
    "low19"
   ]
  },
  {
   "cell_type": "markdown",
   "metadata": {},
   "source": [
    "# Which country has 98% of their pregnant women receiving prenatal care in 2017"
   ]
  },
  {
   "cell_type": "code",
   "execution_count": null,
   "metadata": {},
   "outputs": [],
   "source": [
    "df_pregnant = df[df['Indicator Name'].str.contains('Pregnant women receiving prenatal care')]"
   ]
  },
  {
   "cell_type": "code",
   "execution_count": null,
   "metadata": {},
   "outputs": [],
   "source": [
    "df_pregnant.head()"
   ]
  },
  {
   "cell_type": "code",
   "execution_count": null,
   "metadata": {},
   "outputs": [],
   "source": [
    "answers2 = df_pregnant[['Country Name','2017']]\n",
    "answers2"
   ]
  },
  {
   "cell_type": "code",
   "execution_count": null,
   "metadata": {},
   "outputs": [],
   "source": [
    "answers2 = answers2[answers2['2017'] == 98]\n",
    "answers2"
   ]
  },
  {
   "cell_type": "markdown",
   "metadata": {},
   "source": [
    "# **3. Which country has the highest prevalance of overweight adults in 2016?**"
   ]
  },
  {
   "cell_type": "code",
   "execution_count": null,
   "metadata": {},
   "outputs": [],
   "source": [
    "df_prevalance = df[df['Indicator Name'] == 'Prevalence of overweight (% of adults)']"
   ]
  },
  {
   "cell_type": "code",
   "execution_count": null,
   "metadata": {},
   "outputs": [],
   "source": [
    "answer3 = df_prevalance[['Country Name','2016']]"
   ]
  },
  {
   "cell_type": "code",
   "execution_count": null,
   "metadata": {},
   "outputs": [],
   "source": [
    "answer3.head()"
   ]
  },
  {
   "cell_type": "code",
   "execution_count": null,
   "metadata": {},
   "outputs": [],
   "source": [
    "answer3[answer3['2016'] == answer3['2016'].max()]"
   ]
  },
  {
   "cell_type": "markdown",
   "metadata": {},
   "source": [
    "# **3. Which country has more likely to have a measles outbreak due to the lowest rate of immunization in 2019?**"
   ]
  },
  {
   "cell_type": "code",
   "execution_count": null,
   "metadata": {},
   "outputs": [],
   "source": [
    "df_measles = df[df['Indicator Name']== 'Immunization, measles (% of children ages 12-23 months)']\n",
    "df_measles.head()"
   ]
  },
  {
   "cell_type": "code",
   "execution_count": null,
   "metadata": {},
   "outputs": [],
   "source": [
    "answer4 = df_measles[['Country Name','2019']]\n",
    "answer4 = answer4[answer4['2019'] == answer4['2019'].min()]"
   ]
  },
  {
   "cell_type": "code",
   "execution_count": null,
   "metadata": {},
   "outputs": [],
   "source": [
    "answer4"
   ]
  },
  {
   "cell_type": "markdown",
   "metadata": {},
   "source": [
    "# 5. How much female age first marriage in slovenia"
   ]
  },
  {
   "cell_type": "code",
   "execution_count": null,
   "metadata": {},
   "outputs": [],
   "source": [
    "female = df[df['Indicator Name'].str.contains('Age at first marriage, female')]"
   ]
  },
  {
   "cell_type": "code",
   "execution_count": null,
   "metadata": {},
   "outputs": [],
   "source": [
    "#female.info()"
   ]
  },
  {
   "cell_type": "code",
   "execution_count": null,
   "metadata": {},
   "outputs": [],
   "source": [
    "female = female[['Country Name','2018']]"
   ]
  },
  {
   "cell_type": "code",
   "execution_count": null,
   "metadata": {},
   "outputs": [],
   "source": [
    "female"
   ]
  },
  {
   "cell_type": "code",
   "execution_count": null,
   "metadata": {},
   "outputs": [],
   "source": [
    "answer5 = female[female['Country Name'] == 'Slovenia']"
   ]
  },
  {
   "cell_type": "code",
   "execution_count": null,
   "metadata": {},
   "outputs": [],
   "source": [
    "answer5"
   ]
  },
  {
   "cell_type": "code",
   "execution_count": null,
   "metadata": {},
   "outputs": [],
   "source": []
  },
  {
   "cell_type": "code",
   "execution_count": null,
   "metadata": {},
   "outputs": [],
   "source": []
  },
  {
   "cell_type": "code",
   "execution_count": null,
   "metadata": {},
   "outputs": [],
   "source": []
  },
  {
   "cell_type": "code",
   "execution_count": null,
   "metadata": {},
   "outputs": [],
   "source": []
  },
  {
   "cell_type": "code",
   "execution_count": null,
   "metadata": {},
   "outputs": [],
   "source": []
  },
  {
   "cell_type": "code",
   "execution_count": null,
   "metadata": {},
   "outputs": [],
   "source": []
  }
 ],
 "metadata": {
  "kernelspec": {
   "display_name": "Python 3",
   "language": "python",
   "name": "python3"
  },
  "language_info": {
   "codemirror_mode": {
    "name": "ipython",
    "version": 3
   },
   "file_extension": ".py",
   "mimetype": "text/x-python",
   "name": "python",
   "nbconvert_exporter": "python",
   "pygments_lexer": "ipython3",
   "version": "3.8.5"
  }
 },
 "nbformat": 4,
 "nbformat_minor": 4
}
